{
 "cells": [
  {
   "cell_type": "markdown",
   "metadata": {},
   "source": [
    "# Classification experiments with molecular kernels"
   ]
  },
  {
   "cell_type": "code",
   "execution_count": null,
   "metadata": {},
   "outputs": [],
   "source": [
    "# Local imports \n",
    "from mols.mol_kernels import MolGraphKernel, MolDistanceKernel\n",
    "from mols.molecule import Molecule\n",
    "from dist.ot_dist_computer import OTChemDistanceComputer\n",
    "\n",
    "# 3rd party\n",
    "import pandas as pd\n",
    "import numpy as np\n",
    "from sklearn.svm import SVC\n",
    "from sklearn.model_selection import train_test_split\n",
    "from sklearn.metrics import accuracy_score, roc_auc_score"
   ]
  },
  {
   "cell_type": "code",
   "execution_count": null,
   "metadata": {},
   "outputs": [],
   "source": [
    "# read the MUV dataset\n",
    "df = pd.read_csv(\"../datasets/muv/muv.csv\")"
   ]
  },
  {
   "cell_type": "code",
   "execution_count": null,
   "metadata": {
    "scrolled": true
   },
   "outputs": [],
   "source": [
    "df.head()"
   ]
  },
  {
   "cell_type": "code",
   "execution_count": null,
   "metadata": {},
   "outputs": [],
   "source": [
    "tasks = list(df.columns)[:-2]\n",
    "\n",
    "def get_data_for_task(df, task):\n",
    "    our_df = df.loc[:, [task, 'smiles']]\n",
    "    our_df = our_df.dropna()\n",
    "    print(\"Mean positive: {:.5f}\".format(our_df[task].mean()))\n",
    "    return our_df"
   ]
  },
  {
   "cell_type": "code",
   "execution_count": null,
   "metadata": {},
   "outputs": [],
   "source": [
    "for task in tasks:\n",
    "    print(task)\n",
    "    data = get_data_for_task(df, task)"
   ]
  },
  {
   "cell_type": "code",
   "execution_count": null,
   "metadata": {
    "scrolled": true
   },
   "outputs": [],
   "source": [
    "# let's take MUV-600 for now\n",
    "\n",
    "data = get_data_for_task(df, \"MUV-600\")\n",
    "X, y = data.iloc[:, 1], data.iloc[:, 0]"
   ]
  },
  {
   "cell_type": "code",
   "execution_count": null,
   "metadata": {},
   "outputs": [],
   "source": [
    "def subsample(X, y, rate):\n",
    "    index_zeros = X[y == 0].index\n",
    "    index_zeros = np.random.choice(index_zeros, size=int(len(index_zeros) * rate))\n",
    "    index_nonzeros = X[y != 0].index\n",
    "    index_all = list(index_nonzeros) + list(index_zeros)\n",
    "    X = X.loc[index_all]\n",
    "    y = y.loc[index_all]\n",
    "    print(y.mean())\n",
    "    return X, y"
   ]
  },
  {
   "cell_type": "code",
   "execution_count": null,
   "metadata": {},
   "outputs": [],
   "source": [
    "X, y = subsample(X, y, 0.1)"
   ]
  },
  {
   "cell_type": "code",
   "execution_count": null,
   "metadata": {},
   "outputs": [],
   "source": [
    "# Evaluation for OT dist complexity\n",
    "lens = [Molecule(X.iloc[i]).to_rdkit().GetNumAtoms() for i in range(len(X))]\n",
    "np.mean(lens), np.std(lens)"
   ]
  },
  {
   "cell_type": "code",
   "execution_count": null,
   "metadata": {},
   "outputs": [],
   "source": [
    "def get_func_on_smiles(kernel_obj):\n",
    "    func_on_mols = kernel_obj._child_evaluate\n",
    "    def inner(xs, ys):\n",
    "        xs_mol = [Molecule(smile) for smile in xs]\n",
    "        ys_mol = [Molecule(smile) for smile in ys]\n",
    "        return func_on_mols(xs_mol, ys_mol)\n",
    "    return inner"
   ]
  },
  {
   "cell_type": "code",
   "execution_count": null,
   "metadata": {},
   "outputs": [],
   "source": [
    "kernel_wl = MolGraphKernel(\"wl_kernel\", 2)\n",
    "kernel_ot = MolDistanceKernel(\"distance_kernel_expsum\", \n",
    "                              dist_computer=OTChemDistanceComputer(),\n",
    "                              betas=[1,1,1,1])\n",
    "\n",
    "kern_func_wl = get_func_on_smiles(kernel_wl)\n",
    "kern_func_ot = get_func_on_smiles(kernel_ot)\n",
    "\n",
    "clf_wl = SVC(gamma='auto', kernel=\"precomputed\")\n",
    "clf_ot = SVC(gamma='auto', kernel=\"precomputed\")"
   ]
  },
  {
   "cell_type": "code",
   "execution_count": null,
   "metadata": {
    "scrolled": true
   },
   "outputs": [],
   "source": [
    "X_train, X_val, y_train, y_val = train_test_split(X, y, train_size=0.8, shuffle=True)"
   ]
  },
  {
   "cell_type": "code",
   "execution_count": null,
   "metadata": {
    "scrolled": true
   },
   "outputs": [],
   "source": [
    "G = kern_func_wl(X_train, X_train)\n",
    "clf_wl.fit(G, y_train)\n",
    "G_val = kern_func_wl(X_val, X_train)\n",
    "p = clf_wl.predict(G_val)\n",
    "roc_auc_score(y_val, p), accuracy_score(y_val, p)"
   ]
  },
  {
   "cell_type": "code",
   "execution_count": null,
   "metadata": {},
   "outputs": [],
   "source": [
    "G = kern_func_ot(X_train, X_train)\n",
    "clf_ot.fit(G, y_train)\n",
    "G_val = kern_func_ot(X_val, X_train)\n",
    "p = clf_ot.predict(G_val)\n",
    "roc_auc_score(y_val, p), accuracy_score(y_val, p)"
   ]
  },
  {
   "cell_type": "code",
   "execution_count": null,
   "metadata": {},
   "outputs": [],
   "source": []
  }
 ],
 "metadata": {
  "kernelspec": {
   "display_name": "Python 3",
   "language": "python",
   "name": "python3"
  },
  "language_info": {
   "codemirror_mode": {
    "name": "ipython",
    "version": 3
   },
   "file_extension": ".py",
   "mimetype": "text/x-python",
   "name": "python",
   "nbconvert_exporter": "python",
   "pygments_lexer": "ipython3",
   "version": "3.6.8"
  }
 },
 "nbformat": 4,
 "nbformat_minor": 2
}
